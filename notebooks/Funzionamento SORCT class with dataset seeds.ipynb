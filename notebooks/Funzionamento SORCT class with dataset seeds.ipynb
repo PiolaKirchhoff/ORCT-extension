{
 "cells": [
  {
   "cell_type": "code",
   "execution_count": 2,
   "metadata": {},
   "outputs": [],
   "source": [
    "# dataframe management\n",
    "import pandas as pd\n",
    "import math\n",
    "import numpy as np\n",
    "import random\n",
    "import sklearn\n",
    "import time\n",
    "import json\n",
    "from sklearn.preprocessing import StandardScaler\n",
    "from sklearn.preprocessing import MinMaxScaler\n",
    "from sklearn.model_selection import train_test_split\n",
    "import matplotlib.pyplot as plt\n",
    "from sklearn.metrics import confusion_matrix\n",
    "from sklearn import preprocessing\n",
    "from functools import reduce # Valid in Python 2.6+, required in Python 3\n",
    "import operator\n",
    "from pyomo.environ import *\n",
    "from pyomo.opt import SolverFactory\n",
    "from source.util import *\n",
    "from source.maths1 import *\n",
    "from source.sorct import *\n",
    "from sklearn.model_selection import KFold"
   ]
  },
  {
   "cell_type": "code",
   "execution_count": 3,
   "metadata": {},
   "outputs": [
    {
     "data": {
      "text/html": [
       "<div>\n",
       "<style scoped>\n",
       "    .dataframe tbody tr th:only-of-type {\n",
       "        vertical-align: middle;\n",
       "    }\n",
       "\n",
       "    .dataframe tbody tr th {\n",
       "        vertical-align: top;\n",
       "    }\n",
       "\n",
       "    .dataframe thead th {\n",
       "        text-align: right;\n",
       "    }\n",
       "</style>\n",
       "<table border=\"1\" class=\"dataframe\">\n",
       "  <thead>\n",
       "    <tr style=\"text-align: right;\">\n",
       "      <th></th>\n",
       "      <th>A</th>\n",
       "      <th>P</th>\n",
       "      <th>C</th>\n",
       "      <th>len_kernel</th>\n",
       "      <th>width_kernel</th>\n",
       "      <th>asymm_coef</th>\n",
       "      <th>len_ker_groove</th>\n",
       "      <th>Classes</th>\n",
       "    </tr>\n",
       "  </thead>\n",
       "  <tbody>\n",
       "    <tr>\n",
       "      <th>0</th>\n",
       "      <td>15.26</td>\n",
       "      <td>14.84</td>\n",
       "      <td>0.8710</td>\n",
       "      <td>5.763</td>\n",
       "      <td>3.312</td>\n",
       "      <td>2.221</td>\n",
       "      <td>5.220</td>\n",
       "      <td>1</td>\n",
       "    </tr>\n",
       "    <tr>\n",
       "      <th>1</th>\n",
       "      <td>14.88</td>\n",
       "      <td>14.57</td>\n",
       "      <td>0.8811</td>\n",
       "      <td>5.554</td>\n",
       "      <td>3.333</td>\n",
       "      <td>1.018</td>\n",
       "      <td>4.956</td>\n",
       "      <td>1</td>\n",
       "    </tr>\n",
       "    <tr>\n",
       "      <th>2</th>\n",
       "      <td>14.29</td>\n",
       "      <td>14.09</td>\n",
       "      <td>0.9050</td>\n",
       "      <td>5.291</td>\n",
       "      <td>3.337</td>\n",
       "      <td>2.699</td>\n",
       "      <td>4.825</td>\n",
       "      <td>1</td>\n",
       "    </tr>\n",
       "    <tr>\n",
       "      <th>3</th>\n",
       "      <td>13.84</td>\n",
       "      <td>13.94</td>\n",
       "      <td>0.8955</td>\n",
       "      <td>5.324</td>\n",
       "      <td>3.379</td>\n",
       "      <td>2.259</td>\n",
       "      <td>4.805</td>\n",
       "      <td>1</td>\n",
       "    </tr>\n",
       "    <tr>\n",
       "      <th>4</th>\n",
       "      <td>16.14</td>\n",
       "      <td>14.99</td>\n",
       "      <td>0.9034</td>\n",
       "      <td>5.658</td>\n",
       "      <td>3.562</td>\n",
       "      <td>1.355</td>\n",
       "      <td>5.175</td>\n",
       "      <td>1</td>\n",
       "    </tr>\n",
       "  </tbody>\n",
       "</table>\n",
       "</div>"
      ],
      "text/plain": [
       "       A      P       C  len_kernel  width_kernel  asymm_coef  len_ker_groove  \\\n",
       "0  15.26  14.84  0.8710       5.763         3.312       2.221           5.220   \n",
       "1  14.88  14.57  0.8811       5.554         3.333       1.018           4.956   \n",
       "2  14.29  14.09  0.9050       5.291         3.337       2.699           4.825   \n",
       "3  13.84  13.94  0.8955       5.324         3.379       2.259           4.805   \n",
       "4  16.14  14.99  0.9034       5.658         3.562       1.355           5.175   \n",
       "\n",
       "   Classes  \n",
       "0        1  \n",
       "1        1  \n",
       "2        1  \n",
       "3        1  \n",
       "4        1  "
      ]
     },
     "execution_count": 3,
     "metadata": {},
     "output_type": "execute_result"
    }
   ],
   "source": [
    "data = pd.read_csv('seeds_data.csv',sep=\";\")\n",
    "data_std = data.copy()\n",
    "data.head(5)"
   ]
  },
  {
   "cell_type": "code",
   "execution_count": 4,
   "metadata": {},
   "outputs": [],
   "source": [
    "# Setting of the Scaling (to interval (0,1)) phase\n",
    "scaler = MinMaxScaler()\n",
    "\n",
    "#Preprocessing: we get the columns names of features which have to be standardized\n",
    "columns_names = list(data)\n",
    "index_features = list(range(0,len(data_std.columns)-1))\n",
    "\n",
    "#The name of the classes K\n",
    "classes = data_std['Classes'].unique().tolist()\n",
    "classes_en = [i for i in range(len(classes))] \n",
    "\n",
    "#Encoder processing\n",
    "le = preprocessing.LabelEncoder()\n",
    "le.fit(data_std['Classes'])\n",
    "\n",
    "data_std['Classes'] = le.transform(data_std['Classes']) \n",
    "\n",
    "#Scaling phase\n",
    "data_std[columns_names[0:len(index_features)]] = scaler.fit_transform(data_std[columns_names[0:len(index_features)]])\n",
    "data_std = data_std.replace(1.0000000000000002, 1)\n",
    "data_std = data_std.replace(1.0000000000000004, 1)\n",
    "data_std = data_std.replace(1.0000000000000009, 1)"
   ]
  },
  {
   "cell_type": "code",
   "execution_count": 5,
   "metadata": {},
   "outputs": [],
   "source": [
    "data_std = data_std.sample(frac= 1 ,random_state = 655).reset_index(drop=True)"
   ]
  },
  {
   "cell_type": "code",
   "execution_count": 6,
   "metadata": {},
   "outputs": [],
   "source": [
    "init = {'init_data': [1324, 4162, 2354, 8395, 2009, 770, 166, 281, 6181, 901, 405],\n",
    " 'init_var': [[8838, 8390, 6503, 1145, 2352, 5128, 5022, 8365, 427],\n",
    "  [2569, 8549, 9216, 8087, 5029, 9208, 2576, 6217, 75],\n",
    "  [517, 230, 246, 980, 8429, 59, 617, 8361, 2983],\n",
    "  [4895, 2471, 3107, 3044, 1163, 1173, 9186, 2324, 1278],\n",
    "  [8236, 2191, 9127, 3335, 5876, 7880, 6096, 3163, 649],\n",
    "  [2784, 5850, 2161, 512, 758, 1737, 829, 3741, 943],\n",
    "  [7951, 8064, 6754, 2009, 6507, 8895, 8320, 7779, 792],\n",
    "  [4138, 5831, 5883, 9000, 6780, 9391, 8144, 9610, 109],\n",
    "  [486, 21, 776, 958, 557, 494, 319, 12, 3452],\n",
    "  [7863, 2522, 6532, 7737, 7316, 5823, 3838, 2940, 9528]]}"
   ]
  },
  {
   "cell_type": "code",
   "execution_count": 7,
   "metadata": {},
   "outputs": [],
   "source": [
    "# DICTIONARY FOR ACCURACIES DELTAS AND TIMING\n",
    "acc_s ={'s':[]}\n",
    "delta_g ={'s':[]}\n",
    "delta_l ={'s':[]}"
   ]
  },
  {
   "cell_type": "code",
   "execution_count": 8,
   "metadata": {},
   "outputs": [
    {
     "name": "stdout",
     "output_type": "stream",
     "text": [
      "Init values defined.\n",
      "Objective function loaded\n",
      "SIMPLE\n",
      "Init values defined.\n",
      "Objective function loaded\n",
      "SIMPLE\n",
      "Init values defined.\n",
      "Objective function loaded\n",
      "SIMPLE\n",
      "Init values defined.\n",
      "Objective function loaded\n",
      "SIMPLE\n",
      "Init values defined.\n",
      "Objective function loaded\n",
      "SIMPLE\n"
     ]
    }
   ],
   "source": [
    "k_fold = KFold(n_splits=5)\n",
    "lambdas = 1/(3*(len(data_std.columns)-1))\n",
    "l = 1/(len(data_std.columns)-1)\n",
    "i = 0\n",
    "for train_indices, test_indices in k_fold.split(data_std):\n",
    "    \n",
    "    df_train = data_std.iloc[train_indices]\n",
    "    X_test = data_std.iloc[test_indices,0:data_std.shape[1]-1]\n",
    "    y_test = data_std.iloc[test_indices,data_std.shape[1]-1:data_std.shape[1]]\n",
    "    I_in_k = inst_class(df_train)\n",
    "    def I_k(model,i):\n",
    "        if i==0:\n",
    "            return I_in_k[0]\n",
    "        elif i==1:\n",
    "            return I_in_k[1]\n",
    "        elif i==2:\n",
    "            return I_in_k[2]\n",
    "    \n",
    "    # INITIALIZATION FOR VARIABLES\n",
    "    np.random.seed(init['init_var'][i][0])\n",
    "    init_a = np.random.uniform(low=-1.0, high=1.0, size=None)\n",
    "    np.random.seed(init['init_var'][i][1])\n",
    "    init_mu = np.random.uniform(low=-1.0, high=1.0, size=None)\n",
    "    np.random.seed(init['init_var'][i][2])\n",
    "    init_C = np.random.uniform(low=0.0, high=1.0, size=None)\n",
    "    np.random.seed(init['init_var'][i][3])\n",
    "    init_P = np.random.uniform(low=0.0, high=1.0, size=None)\n",
    "    np.random.seed(init['init_var'][i][4])\n",
    "    init_p = np.random.uniform(low=0.0, high=1.0, size=None)\n",
    "    np.random.seed(init['init_var'][i][5])\n",
    "    init_beta = np.random.uniform(low=0.0, high=1.0, size=None)\n",
    "    np.random.seed(init['init_var'][i][6])\n",
    "    init_am = np.random.uniform(low=0.0, high=1.0, size=None)\n",
    "    np.random.seed(init['init_var'][i][7])\n",
    "    init_ap = np.random.uniform(low=0.0, high=1.0, size=None)\n",
    "    np.random.seed(init['init_var'][i][8])\n",
    "    init_z = np.random.uniform(low=0.0, high=1.0, size=None)\n",
    "    i += 1\n",
    "    \n",
    "    ini = [init_a,init_mu,init_C,init_P,init_p,init_am,init_ap,init_beta,init_z]\n",
    "    \n",
    "    # simple\n",
    "    simple = SORCT(df_train,I_in_k,I_k)\n",
    "    simple.set_init(ini)\n",
    "    simple.createModel()\n",
    "    simple.set_alpha(5)\n",
    "    simple.charge_of(\"simple\",0)\n",
    "    \n",
    "    # SOLVING PHASE: twice to be sure to reach the solution\n",
    "    # SIMPLE\n",
    "    print(\"SIMPLE\")\n",
    "    try:\n",
    "        simple.solve()\n",
    "    except ValueError:\n",
    "        print ('Invalid value!')\n",
    "    try:\n",
    "        simple.solve()\n",
    "    except ValueError:\n",
    "        print ('Invalid value!')\n",
    "    \n",
    "    \n",
    "    \n",
    "    simple.extraction_va()\n",
    "\n",
    "    # PREDICTION PHASE\n",
    "    \n",
    "    p_s = simple.predicted_lab(X_test)\n",
    "    acc_s['s'].append(simple.accuracy(p_s,y_test.values))\n",
    "    delta_l['s'].append(simple.delta_l())\n",
    "    delta_g['s'].append(simple.delta_g())\n",
    "\n",
    "    "
   ]
  },
  {
   "cell_type": "code",
   "execution_count": 10,
   "metadata": {},
   "outputs": [
    {
     "data": {
      "text/plain": [
       "{'s': [0.9285714285714286,\n",
       "  0.9047619047619048,\n",
       "  0.9761904761904762,\n",
       "  1.0,\n",
       "  0.9523809523809523]}"
      ]
     },
     "execution_count": 10,
     "metadata": {},
     "output_type": "execute_result"
    }
   ],
   "source": [
    "acc_s"
   ]
  },
  {
   "cell_type": "code",
   "execution_count": 11,
   "metadata": {},
   "outputs": [
    {
     "data": {
      "text/plain": [
       "{'s': [66.6667, 66.6667, 66.6667, 100.0, 100.0]}"
      ]
     },
     "execution_count": 11,
     "metadata": {},
     "output_type": "execute_result"
    }
   ],
   "source": [
    "delta_l"
   ]
  },
  {
   "cell_type": "code",
   "execution_count": 13,
   "metadata": {},
   "outputs": [
    {
     "data": {
      "text/plain": [
       "{'s': [100.0, 100.0, 100.0, 100.0, 100.0]}"
      ]
     },
     "execution_count": 13,
     "metadata": {},
     "output_type": "execute_result"
    }
   ],
   "source": [
    "delta_g"
   ]
  }
 ],
 "metadata": {
  "kernelspec": {
   "display_name": "Python 3",
   "language": "python",
   "name": "python3"
  },
  "language_info": {
   "codemirror_mode": {
    "name": "ipython",
    "version": 3
   },
   "file_extension": ".py",
   "mimetype": "text/x-python",
   "name": "python",
   "nbconvert_exporter": "python",
   "pygments_lexer": "ipython3",
   "version": "3.6.8"
  }
 },
 "nbformat": 4,
 "nbformat_minor": 2
}
